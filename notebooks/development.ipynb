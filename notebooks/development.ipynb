{
 "cells": [
  {
   "cell_type": "code",
   "execution_count": null,
   "metadata": {},
   "outputs": [],
   "source": [
    "# Import dependencies\n",
    "import pandas as pd\n",
    "from IPython.display import display\n",
    "from pathlib import Path\n",
    "\n",
    "# Add our package to the path\n",
    "import sys\n",
    "sys.path.append(\"../\")\n",
    "from src.suggest import find_suggestions"
   ]
  },
  {
   "cell_type": "markdown",
   "metadata": {},
   "source": [
    "# Configuration\n",
    "\n",
    "Be sure to update the `INPUT_FILE` variable with the name of your CSV of interest!"
   ]
  },
  {
   "cell_type": "code",
   "execution_count": null,
   "metadata": {},
   "outputs": [],
   "source": [
    "# Read in the given CSV to pull out the names\n",
    "INPUT_FILE = \"./names.csv\""
   ]
  },
  {
   "cell_type": "markdown",
   "metadata": {},
   "source": [
    "# Find suggestions"
   ]
  },
  {
   "cell_type": "code",
   "execution_count": null,
   "metadata": {},
   "outputs": [],
   "source": [
    "# Read in the data, sanitising it a bit\n",
    "data = pd.read_csv(str(INPUT_FILE))\n",
    "airtable_names = data[\"Airtable Names\"].dropna()\n",
    "pg_names = data[\"PG Names\"].dropna()"
   ]
  },
  {
   "cell_type": "code",
   "execution_count": null,
   "metadata": {},
   "outputs": [],
   "source": [
    "# Convert names to sets\n",
    "airtable_names_set = set(airtable_names)\n",
    "pg_names_set = set(pg_names)\n",
    "\n",
    "# Remove exact matches, that's not interesting!\n",
    "common_names = airtable_names_set.intersection(pg_names_set)\n",
    "to_fix = airtable_names_set - common_names\n",
    "to_search = pg_names_set - common_names"
   ]
  },
  {
   "cell_type": "code",
   "execution_count": null,
   "metadata": {},
   "outputs": [],
   "source": [
    "# Run the logic\n",
    "suggestions = find_suggestions(to_fix, to_search)\n",
    "suggestions"
   ]
  },
  {
   "cell_type": "markdown",
   "metadata": {},
   "source": [
    "# Other"
   ]
  },
  {
   "cell_type": "code",
   "execution_count": null,
   "metadata": {},
   "outputs": [],
   "source": [
    "# Display the names from the search set that were not selected for anything\n",
    "leftover = to_search - set(suggestions['suggestion'])\n",
    "leftover"
   ]
  },
  {
   "cell_type": "code",
   "execution_count": null,
   "metadata": {},
   "outputs": [],
   "source": [
    "# Export the results\n",
    "suggestions.to_csv('output.csv')"
   ]
  }
 ],
 "metadata": {
  "kernelspec": {
   "display_name": "Python 3",
   "language": "python",
   "name": "python3"
  },
  "language_info": {
   "codemirror_mode": {
    "name": "ipython",
    "version": 3
   },
   "file_extension": ".py",
   "mimetype": "text/x-python",
   "name": "python",
   "nbconvert_exporter": "python",
   "pygments_lexer": "ipython3",
   "version": "3.7.2"
  }
 },
 "nbformat": 4,
 "nbformat_minor": 2
}
